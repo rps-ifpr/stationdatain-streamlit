{
 "cells": [
  {
   "cell_type": "code",
   "execution_count": null,
   "id": "134ca8cb",
   "metadata": {},
   "outputs": [],
   "source": [
    "pip install ee datetime requests geemap"
   ]
  },
  {
   "cell_type": "code",
   "execution_count": null,
   "id": "3e067186",
   "metadata": {},
   "outputs": [],
   "source": [
    "import os\n",
    "import datetime\n",
    "import requests\n",
    "import geemap"
   ]
  },
  {
   "cell_type": "code",
   "execution_count": null,
   "id": "9c70d99c",
   "metadata": {},
   "outputs": [],
   "source": [
    "pip install tensorflow tensorboard streamlit"
   ]
  },
  {
   "cell_type": "code",
   "execution_count": null,
   "id": "89b2769f",
   "metadata": {},
   "outputs": [],
   "source": [
    "# Credenciais da conta de serviço\n",
    "service_account = 'Estes Dados Foram ocultados'\n",
    "caminho_json = 'Estes Dados Foram ocultados'"
   ]
  },
  {
   "cell_type": "code",
   "execution_count": null,
   "id": "41b1ec53",
   "metadata": {},
   "outputs": [],
   "source": [
    "# Autenticação\n",
    "credentials = ee.ServiceAccountCredentials(service_account, caminho_json)\n",
    "ee.Initialize(credentials)"
   ]
  },
  {
   "cell_type": "code",
   "execution_count": null,
   "id": "108e1d9a",
   "metadata": {},
   "outputs": [],
   "source": [
    "# Função para baixar a imagem\n",
    "def baixar_imagem(imagem, nome_arquivo):\n",
    "    url = imagem.getDownloadURL({\n",
    "        'name': nome_arquivo,\n",
    "        'scale': 10,  # Ajuste a escala conforme necessário\n",
    "        'region': geometry\n",
    "    })\n",
    "    print(f'Baixando: {nome_arquivo} - URL: {url}')\n",
    "    response = requests.get(url, stream=True)\n",
    "    with open(nome_arquivo, 'wb') as f:\n",
    "        for chunk in response.iter_content(chunk_size=1024):\n",
    "            if chunk:\n",
    "                f.write(chunk)"
   ]
  },
  {
   "cell_type": "code",
   "execution_count": null,
   "id": "dcf63f83",
   "metadata": {},
   "outputs": [],
   "source": [
    "# Função para pré-processar a imagem\n",
    "def pre_processar_imagem(imagem):\n",
    "    # 1. Correção Geométrica (opcional)\n",
    "    # imagem = imagem.reproject(crs='EPSG:4326', scale=10)\n",
    "\n",
    "    # 2. Máscara de Nuvens\n",
    "    mascara_nuvens = imagem.select('CLOUDY_PIXEL_PERCENTAGE').lt(5)  # Ajuste o limite de nuvens\n",
    "    imagem = imagem.updateMask(mascara_nuvens)\n",
    "\n",
    "    # 3. Índices de Vegetação\n",
    "    ndvi = imagem.normalizedDifference(['B8', 'B4']).rename('NDVI')\n",
    "    imagem = imagem.addBands(ndvi)\n",
    "\n",
    "    # 4. Cálculo de Bandas Adicionais (se necessário)\n",
    "    # ...\n",
    "\n",
    "    return imagem"
   ]
  },
  {
   "cell_type": "code",
   "execution_count": null,
   "id": "d6342a8b",
   "metadata": {},
   "outputs": [],
   "source": [
    "# Coordenadas da área 22JBR (extraídas do MGRS_REF)\n",
    "latitude_min = -27.107979524\n",
    "latitude_max = -25.286086075548\n",
    "longitude_min = -54.025311665\n",
    "longitude_max = -53.9792316344072"
   ]
  },
  {
   "cell_type": "code",
   "execution_count": null,
   "id": "68bf713d",
   "metadata": {},
   "outputs": [],
   "source": [
    "# Criar um objeto Geometry com o quadrado\n",
    "geometry = ee.Geometry.Rectangle([\n",
    "    longitude_min,\n",
    "    latitude_min,\n",
    "    longitude_max,\n",
    "    latitude_max\n",
    "])\n"
   ]
  },
  {
   "cell_type": "code",
   "execution_count": null,
   "id": "ec32f1e1",
   "metadata": {},
   "outputs": [],
   "source": [
    "# Definir o intervalo de datas\n",
    "data_inicio = '2023-09-01'\n",
    "data_fim = '2023-12-01'"
   ]
  },
  {
   "cell_type": "code",
   "execution_count": null,
   "id": "ba6303f9",
   "metadata": {},
   "outputs": [],
   "source": [
    "# Carregar as imagens (CORRIGIDO)\n",
    "imagens = ee.ImageCollection('COPERNICUS/S2_SR_HARMONIZED') \\\n",
    "    .filterBounds(geometry) \\\n",
    "    .filterDate(ee.Date(data_inicio), ee.Date(data_fim)) \\\n",
    "    .sort('CLOUDY_PIXEL_PERCENTAGE') \n",
    "    #.select('CLOUDY_PIXEL_PERCENTAGE')  # Selecione a banda antes do .first()"
   ]
  },
  {
   "cell_type": "code",
   "execution_count": null,
   "id": "028c8fde",
   "metadata": {},
   "outputs": [],
   "source": [
    "# Pré-processar as imagens\n",
    "imagens_processadas = imagens.map(pre_processar_imagem)"
   ]
  },
  {
   "cell_type": "code",
   "execution_count": null,
   "id": "78657743",
   "metadata": {},
   "outputs": [],
   "source": [
    "# Baixar as imagens pré-processadas\n",
    "for i in range(imagens_processadas.size().getInfo()):\n",
    "    imagem = ee.Image(imagens_processadas.toList(imagens_processadas.size()).get(i))\n",
    "    data = ee.Date(imagem.get('system:time_start')).format('YYYY-MM-dd').getInfo()\n",
    "    nome_arquivo = f'imagem_{data}.tif'\n",
    "    baixar_imagem(imagem, nome_arquivo)"
   ]
  },
  {
   "cell_type": "code",
   "execution_count": null,
   "id": "284e1d47",
   "metadata": {},
   "outputs": [],
   "source": [
    "# Exibir mensagem de conclusão\n",
    "print(f'Download de {imagens_processadas.size().getInfo()} imagens concluído!')"
   ]
  },
  {
   "cell_type": "code",
   "execution_count": null,
   "id": "03ecbc64",
   "metadata": {},
   "outputs": [],
   "source": [
    "# Visualização com geemap\n",
    "Map = geemap.Map()  # Cria um mapa interativo\n",
    "Map.addLayer(imagens_processadas, {}, 'Imagem Processada')\n",
    "Map.centerObject(geometry, 10) # Centra o mapa na área\n",
    "Map.show()  # Exibe o mapa"
   ]
  },
  {
   "cell_type": "code",
   "execution_count": null,
   "id": "91e943ac",
   "metadata": {},
   "outputs": [],
   "source": []
  }
 ],
 "metadata": {
  "kernelspec": {
   "display_name": "Python 3 (ipykernel)",
   "language": "python",
   "name": "python3"
  },
  "language_info": {
   "codemirror_mode": {
    "name": "ipython",
    "version": 3
   },
   "file_extension": ".py",
   "mimetype": "text/x-python",
   "name": "python",
   "nbconvert_exporter": "python",
   "pygments_lexer": "ipython3",
   "version": "3.9.7"
  }
 },
 "nbformat": 4,
 "nbformat_minor": 5
}
